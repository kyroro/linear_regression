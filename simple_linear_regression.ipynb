{
 "cells": [
  {
   "cell_type": "code",
   "execution_count": 1,
   "id": "19049d6d",
   "metadata": {},
   "outputs": [],
   "source": [
    "%matplotlib inline\n",
    "import matplotlib.pyplot as plt\n",
    "import numpy as np\n",
    "import pandas as pd\n",
    "import sklearn\n",
    "\n",
    "from sklearn.linear_model import LinearRegression\n",
    "from sklearn.preprocessing import scale\n",
    "\n",
    "from pylab import rcParams\n",
    "rcParams['figure.figsize'] = 10,8"
   ]
  },
  {
   "cell_type": "code",
   "execution_count": 2,
   "id": "d36a95cc",
   "metadata": {},
   "outputs": [
    {
     "data": {
      "text/plain": [
       "array([[45],\n",
       "       [31],\n",
       "       [38],\n",
       "       [20],\n",
       "       [48],\n",
       "       [33],\n",
       "       [12],\n",
       "       [28],\n",
       "       [19],\n",
       "       [12],\n",
       "       [44],\n",
       "       [12],\n",
       "       [12],\n",
       "       [45],\n",
       "       [23],\n",
       "       [46],\n",
       "       [43],\n",
       "       [49],\n",
       "       [17],\n",
       "       [12],\n",
       "       [47],\n",
       "       [18],\n",
       "       [34],\n",
       "       [48],\n",
       "       [22],\n",
       "       [25],\n",
       "       [24],\n",
       "       [43],\n",
       "       [47],\n",
       "       [39],\n",
       "       [14],\n",
       "       [49],\n",
       "       [11],\n",
       "       [42],\n",
       "       [36],\n",
       "       [49],\n",
       "       [19],\n",
       "       [47],\n",
       "       [16],\n",
       "       [30],\n",
       "       [29],\n",
       "       [28],\n",
       "       [12],\n",
       "       [34],\n",
       "       [15],\n",
       "       [30],\n",
       "       [18],\n",
       "       [21],\n",
       "       [30],\n",
       "       [42],\n",
       "       [21],\n",
       "       [28],\n",
       "       [22],\n",
       "       [31],\n",
       "       [10],\n",
       "       [27],\n",
       "       [18],\n",
       "       [46],\n",
       "       [28],\n",
       "       [14],\n",
       "       [12],\n",
       "       [40],\n",
       "       [10],\n",
       "       [34],\n",
       "       [21],\n",
       "       [18],\n",
       "       [31],\n",
       "       [31],\n",
       "       [12],\n",
       "       [41],\n",
       "       [16],\n",
       "       [35],\n",
       "       [37],\n",
       "       [24],\n",
       "       [36],\n",
       "       [30],\n",
       "       [39],\n",
       "       [24],\n",
       "       [16],\n",
       "       [11],\n",
       "       [28],\n",
       "       [23],\n",
       "       [29],\n",
       "       [15],\n",
       "       [31],\n",
       "       [22],\n",
       "       [34],\n",
       "       [39],\n",
       "       [47],\n",
       "       [37],\n",
       "       [12],\n",
       "       [31],\n",
       "       [43],\n",
       "       [45],\n",
       "       [31],\n",
       "       [24],\n",
       "       [18],\n",
       "       [16],\n",
       "       [21],\n",
       "       [15]])"
      ]
     },
     "execution_count": 2,
     "metadata": {},
     "output_type": "execute_result"
    }
   ],
   "source": [
    "windows = np.random.randint(10,50,(100, 1))\n",
    "windows"
   ]
  },
  {
   "cell_type": "code",
   "execution_count": 6,
   "id": "b27b1256",
   "metadata": {},
   "outputs": [
    {
     "data": {
      "text/plain": [
       "array([[3355.290736  ],\n",
       "       [4055.32643868],\n",
       "       [2255.27380943],\n",
       "       [5055.68681597],\n",
       "       [3555.51302159],\n",
       "       [1455.55732609],\n",
       "       [3055.5621548 ],\n",
       "       [2155.46065355],\n",
       "       [1455.92340465]])"
      ]
     },
     "execution_count": 6,
     "metadata": {},
     "output_type": "execute_result"
    }
   ],
   "source": [
    "tax = 256 + 100*windows - abs(np.random.rand(100, 1))\n",
    "tax[1:10]"
   ]
  },
  {
   "cell_type": "code",
   "execution_count": 7,
   "id": "7a72ac2f",
   "metadata": {},
   "outputs": [
    {
     "data": {
      "image/png": "[encoded data removed]",
      "text/plain": [
       "<Figure size 720x576 with 1 Axes>"
      ]
     },
     "metadata": {
      "needs_background": "light"
     },
     "output_type": "display_data"
    }
   ],
   "source": [
    "plt.plot(windows, tax, 'r^')\n",
    "plt.xlabel('Windows')\n",
    "plt.ylabel('Tax')\n",
    "plt.show()"
   ]
  },
  {
   "cell_type": "code",
   "execution_count": 8,
   "id": "e35641e2",
   "metadata": {},
   "outputs": [
    {
     "name": "stdout",
     "output_type": "stream",
     "text": [
      "[255.49867139] [[100.00030759]]\n"
     ]
    }
   ],
   "source": [
    "x = windows\n",
    "y = tax\n",
    "\n",
    "LinReg = LinearRegression()\n",
    "LinReg.fit(x,y)\n",
    "print(LinReg.intercept_, LinReg.coef_)\n"
   ]
  },
  {
   "cell_type": "code",
   "execution_count": 10,
   "id": "f58d0a1d",
   "metadata": {},
   "outputs": [
    {
     "name": "stdout",
     "output_type": "stream",
     "text": [
      "0.9999999470331496\n"
     ]
    }
   ],
   "source": [
    "print(LinReg.score(x, y))"
   ]
  },
  {
   "cell_type": "code",
   "execution_count": 11,
   "id": "cbe834a1",
   "metadata": {},
   "outputs": [
    {
     "data": {
      "text/plain": [
       "array([[4],\n",
       "       [7],\n",
       "       [6],\n",
       "       [8],\n",
       "       [7],\n",
       "       [3],\n",
       "       [6],\n",
       "       [9],\n",
       "       [8]])"
      ]
     },
     "execution_count": 11,
     "metadata": {},
     "output_type": "execute_result"
    }
   ],
   "source": [
    "X_new = np.random.randint(3,10,(100, 1))\n",
    "X_new[1:10]"
   ]
  },
  {
   "cell_type": "code",
   "execution_count": 12,
   "id": "b30a6f2a",
   "metadata": {},
   "outputs": [
    {
     "data": {
      "text/plain": [
       "array([[ 655.49990174],\n",
       "       [ 655.49990174],\n",
       "       [ 955.50082449],\n",
       "       [ 855.50051691],\n",
       "       [1055.50113208],\n",
       "       [ 955.50082449],\n",
       "       [ 555.49959415],\n",
       "       [ 855.50051691],\n",
       "       [1155.50143966],\n",
       "       [1055.50113208],\n",
       "       [ 555.49959415],\n",
       "       [ 655.49990174],\n",
       "       [1055.50113208],\n",
       "       [1055.50113208],\n",
       "       [ 555.49959415],\n",
       "       [ 655.49990174],\n",
       "       [ 955.50082449],\n",
       "       [1155.50143966],\n",
       "       [1055.50113208],\n",
       "       [ 755.50020932],\n",
       "       [1155.50143966],\n",
       "       [1055.50113208],\n",
       "       [1155.50143966],\n",
       "       [ 955.50082449],\n",
       "       [ 655.49990174],\n",
       "       [ 955.50082449],\n",
       "       [ 855.50051691],\n",
       "       [ 555.49959415],\n",
       "       [1155.50143966],\n",
       "       [ 755.50020932],\n",
       "       [ 855.50051691],\n",
       "       [1155.50143966],\n",
       "       [1155.50143966],\n",
       "       [ 555.49959415],\n",
       "       [ 955.50082449],\n",
       "       [1155.50143966],\n",
       "       [ 755.50020932],\n",
       "       [ 555.49959415],\n",
       "       [ 555.49959415],\n",
       "       [ 755.50020932],\n",
       "       [ 555.49959415],\n",
       "       [1155.50143966],\n",
       "       [1155.50143966],\n",
       "       [1055.50113208],\n",
       "       [ 955.50082449],\n",
       "       [ 755.50020932],\n",
       "       [ 955.50082449],\n",
       "       [1055.50113208],\n",
       "       [ 955.50082449],\n",
       "       [ 855.50051691],\n",
       "       [ 555.49959415],\n",
       "       [ 855.50051691],\n",
       "       [ 755.50020932],\n",
       "       [ 655.49990174],\n",
       "       [ 855.50051691],\n",
       "       [ 555.49959415],\n",
       "       [ 655.49990174],\n",
       "       [1155.50143966],\n",
       "       [ 755.50020932],\n",
       "       [ 655.49990174],\n",
       "       [ 655.49990174],\n",
       "       [ 755.50020932],\n",
       "       [1055.50113208],\n",
       "       [ 955.50082449],\n",
       "       [ 755.50020932],\n",
       "       [1155.50143966],\n",
       "       [ 855.50051691],\n",
       "       [ 655.49990174],\n",
       "       [ 955.50082449],\n",
       "       [1055.50113208],\n",
       "       [ 955.50082449],\n",
       "       [ 755.50020932],\n",
       "       [ 955.50082449],\n",
       "       [ 955.50082449],\n",
       "       [ 655.49990174],\n",
       "       [ 855.50051691],\n",
       "       [ 755.50020932],\n",
       "       [ 955.50082449],\n",
       "       [ 755.50020932],\n",
       "       [1055.50113208],\n",
       "       [ 955.50082449],\n",
       "       [ 955.50082449],\n",
       "       [1055.50113208],\n",
       "       [ 755.50020932],\n",
       "       [ 755.50020932],\n",
       "       [1155.50143966],\n",
       "       [1155.50143966],\n",
       "       [ 955.50082449],\n",
       "       [1155.50143966],\n",
       "       [1155.50143966],\n",
       "       [ 655.49990174],\n",
       "       [ 955.50082449],\n",
       "       [ 655.49990174],\n",
       "       [ 755.50020932],\n",
       "       [ 655.49990174],\n",
       "       [ 655.49990174],\n",
       "       [ 855.50051691],\n",
       "       [ 955.50082449],\n",
       "       [ 555.49959415],\n",
       "       [ 555.49959415]])"
      ]
     },
     "execution_count": 12,
     "metadata": {},
     "output_type": "execute_result"
    }
   ],
   "source": [
    "y_new = LinReg.predict(X_new)\n",
    "y_new"
   ]
  },
  {
   "cell_type": "code",
   "execution_count": 13,
   "id": "40c5fe39",
   "metadata": {},
   "outputs": [
    {
     "data": {
      "image/png": "[encoded data removed]",
      "text/plain": [
       "<Figure size 720x576 with 1 Axes>"
      ]
     },
     "metadata": {
      "needs_background": "light"
     },
     "output_type": "display_data"
    }
   ],
   "source": [
    "plt.plot(X_new, y_new, 'r^')\n",
    "plt.xlabel('Windows')\n",
    "plt.ylabel('Tax')\n",
    "plt.show()"
   ]
  },
  {
   "cell_type": "code",
   "execution_count": 14,
   "id": "c1605b1b",
   "metadata": {},
   "outputs": [
    {
     "name": "stdout",
     "output_type": "stream",
     "text": [
      "1.0\n"
     ]
    }
   ],
   "source": [
    "print(LinReg.score(X_new, y_new))"
   ]
  },
  {
   "cell_type": "code",
   "execution_count": null,
   "id": "1b684dee",
   "metadata": {},
   "outputs": [],
   "source": []
  }
 ],
 "metadata": {
  "kernelspec": {
   "display_name": "Python 3 (ipykernel)",
   "language": "python",
   "name": "python3"
  },
  "language_info": {
   "codemirror_mode": {
    "name": "ipython",
    "version": 3
   },
   "file_extension": ".py",
   "mimetype": "text/x-python",
   "name": "python",
   "nbconvert_exporter": "python",
   "pygments_lexer": "ipython3",
   "version": "3.10.5"
  }
 },
 "nbformat": 4,
 "nbformat_minor": 5
}
